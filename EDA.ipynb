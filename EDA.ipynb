{
 "cells": [
  {
   "cell_type": "code",
   "execution_count": 1,
   "id": "edff81d1",
   "metadata": {
    "_cell_guid": "b1076dfc-b9ad-4769-8c92-a6c4dae69d19",
    "_uuid": "8f2839f25d086af736a60e9eeb907d3b93b6e0e5",
    "execution": {
     "iopub.execute_input": "2022-11-10T17:46:03.621539Z",
     "iopub.status.busy": "2022-11-10T17:46:03.621088Z",
     "iopub.status.idle": "2022-11-10T17:46:11.079174Z",
     "shell.execute_reply": "2022-11-10T17:46:11.078042Z"
    },
    "papermill": {
     "duration": 7.471365,
     "end_time": "2022-11-10T17:46:11.082129",
     "exception": false,
     "start_time": "2022-11-10T17:46:03.610764",
     "status": "completed"
    },
    "tags": []
   },
   "outputs": [],
   "source": [
    "import numpy as np\n",
    "import pandas as pd\n",
    "import os\n",
    "from keras.preprocessing.text import Tokenizer\n",
    "from sklearn import preprocessing\n",
    "from keras.models import Sequential\n",
    "from keras.layers import Dense\n",
    "from keras.layers import Dropout\n",
    "from tensorflow.keras import callbacks \n",
    "from sklearn import metrics\n",
    "from sklearn.metrics import confusion_matrix\n",
    "from keras.utils import np_utils\n",
    "from mlxtend.plotting import plot_confusion_matrix\n",
    "from sklearn.model_selection import train_test_split\n",
    "from sklearn.pipeline import make_pipeline\n",
    "from sklearn.preprocessing import StandardScaler\n",
    "from sklearn.ensemble import RandomForestClassifier\n",
    "from sklearn.model_selection import StratifiedKFold\n",
    "from tqdm import tqdm\n",
    "from sklearn.model_selection import cross_val_score\n",
    "import matplotlib.pyplot as plt"
   ]
  },
  {
   "cell_type": "code",
   "execution_count": 2,
   "id": "90936752",
   "metadata": {
    "execution": {
     "iopub.execute_input": "2022-11-10T17:46:11.098703Z",
     "iopub.status.busy": "2022-11-10T17:46:11.098060Z",
     "iopub.status.idle": "2022-11-10T17:46:15.116257Z",
     "shell.execute_reply": "2022-11-10T17:46:15.114754Z"
    },
    "papermill": {
     "duration": 4.029723,
     "end_time": "2022-11-10T17:46:15.119099",
     "exception": false,
     "start_time": "2022-11-10T17:46:11.089376",
     "status": "completed"
    },
    "tags": []
   },
   "outputs": [
    {
     "name": "stdout",
     "output_type": "stream",
     "text": [
      "Cloning into 'SDCNL'...\r\n",
      "remote: Enumerating objects: 63, done.\u001b[K\r\n",
      "remote: Counting objects: 100% (63/63), done.\u001b[K\r\n",
      "remote: Compressing objects: 100% (58/58), done.\u001b[K\r\n",
      "remote: Total 63 (delta 27), reused 16 (delta 3), pack-reused 0\u001b[K\r\n",
      "Unpacking objects: 100% (63/63), 1.87 MiB | 1.54 MiB/s, done.\r\n"
     ]
    }
   ],
   "source": [
    "!git clone 'https://github.com/anirudhv14/SDCNL.git'"
   ]
  },
  {
   "cell_type": "code",
   "execution_count": 3,
   "id": "1399451c",
   "metadata": {
    "execution": {
     "iopub.execute_input": "2022-11-10T17:46:15.137347Z",
     "iopub.status.busy": "2022-11-10T17:46:15.136908Z",
     "iopub.status.idle": "2022-11-10T17:46:16.236742Z",
     "shell.execute_reply": "2022-11-10T17:46:16.235411Z"
    },
    "papermill": {
     "duration": 1.111924,
     "end_time": "2022-11-10T17:46:16.239324",
     "exception": false,
     "start_time": "2022-11-10T17:46:15.127400",
     "status": "completed"
    },
    "tags": []
   },
   "outputs": [
    {
     "name": "stdout",
     "output_type": "stream",
     "text": [
      "combined-set.csv    processed_train.csv  training-set.csv\r\n",
      "processed_test.csv  testing-set.csv\r\n"
     ]
    }
   ],
   "source": [
    "!ls './SDCNL/data'"
   ]
  },
  {
   "cell_type": "code",
   "execution_count": 4,
   "id": "1b83554f",
   "metadata": {
    "execution": {
     "iopub.execute_input": "2022-11-10T17:46:16.257932Z",
     "iopub.status.busy": "2022-11-10T17:46:16.257161Z",
     "iopub.status.idle": "2022-11-10T17:46:16.334580Z",
     "shell.execute_reply": "2022-11-10T17:46:16.333415Z"
    },
    "papermill": {
     "duration": 0.090145,
     "end_time": "2022-11-10T17:46:16.337401",
     "exception": false,
     "start_time": "2022-11-10T17:46:16.247256",
     "status": "completed"
    },
    "tags": []
   },
   "outputs": [],
   "source": [
    "data_train = pd.read_csv('./SDCNL/data/training-set.csv',usecols=[\"selftext\",\"is_suicide\"])\n",
    "data_test =  pd.read_csv('./SDCNL/data/testing-set.csv',usecols=[\"selftext\",\"is_suicide\"] )\n",
    "# data_train.head()\n",
    "\n",
    "data_train.rename(columns={\"selftext\":\"text\",\"is_suicide\":\"class\"},inplace=True)\n",
    "data_test.rename(columns={\"selftext\":\"text\",\"is_suicide\":\"class\"},inplace=True)\n",
    "# data_test.head()"
   ]
  },
  {
   "cell_type": "code",
   "execution_count": 5,
   "id": "b57bb1fc",
   "metadata": {
    "execution": {
     "iopub.execute_input": "2022-11-10T17:46:16.355167Z",
     "iopub.status.busy": "2022-11-10T17:46:16.354743Z",
     "iopub.status.idle": "2022-11-10T17:46:24.930864Z",
     "shell.execute_reply": "2022-11-10T17:46:24.929749Z"
    },
    "papermill": {
     "duration": 8.587755,
     "end_time": "2022-11-10T17:46:24.933010",
     "exception": false,
     "start_time": "2022-11-10T17:46:16.345255",
     "status": "completed"
    },
    "tags": []
   },
   "outputs": [
    {
     "data": {
      "text/html": [
       "<div>\n",
       "<style scoped>\n",
       "    .dataframe tbody tr th:only-of-type {\n",
       "        vertical-align: middle;\n",
       "    }\n",
       "\n",
       "    .dataframe tbody tr th {\n",
       "        vertical-align: top;\n",
       "    }\n",
       "\n",
       "    .dataframe thead th {\n",
       "        text-align: right;\n",
       "    }\n",
       "</style>\n",
       "<table border=\"1\" class=\"dataframe\">\n",
       "  <thead>\n",
       "    <tr style=\"text-align: right;\">\n",
       "      <th></th>\n",
       "      <th>text</th>\n",
       "      <th>class</th>\n",
       "    </tr>\n",
       "  </thead>\n",
       "  <tbody>\n",
       "    <tr>\n",
       "      <th>0</th>\n",
       "      <td>Does life actually work for most / non-depress...</td>\n",
       "      <td>0</td>\n",
       "    </tr>\n",
       "    <tr>\n",
       "      <th>1</th>\n",
       "      <td>I found my friend's bodyIt was almost nine yea...</td>\n",
       "      <td>0</td>\n",
       "    </tr>\n",
       "    <tr>\n",
       "      <th>2</th>\n",
       "      <td>Ex Wife Threatening SuicideRecently I left my ...</td>\n",
       "      <td>1</td>\n",
       "    </tr>\n",
       "    <tr>\n",
       "      <th>3</th>\n",
       "      <td>Am I weird I don't get affected by compliments...</td>\n",
       "      <td>0</td>\n",
       "    </tr>\n",
       "    <tr>\n",
       "      <th>4</th>\n",
       "      <td>Finally 2020 is almost over... So I can never ...</td>\n",
       "      <td>0</td>\n",
       "    </tr>\n",
       "  </tbody>\n",
       "</table>\n",
       "</div>"
      ],
      "text/plain": [
       "                                                text  class\n",
       "0  Does life actually work for most / non-depress...      0\n",
       "1  I found my friend's bodyIt was almost nine yea...      0\n",
       "2  Ex Wife Threatening SuicideRecently I left my ...      1\n",
       "3  Am I weird I don't get affected by compliments...      0\n",
       "4  Finally 2020 is almost over... So I can never ...      0"
      ]
     },
     "execution_count": 5,
     "metadata": {},
     "output_type": "execute_result"
    }
   ],
   "source": [
    "def change_label(value):\n",
    "    if value ==\"SuicideWatch\":\n",
    "        return 1\n",
    "    else :\n",
    "        return 0\n",
    "df = pd.read_csv(\"../input/suic-mini-proj/SuicideAndDepression_Detection.csv\").dropna()\n",
    "df.loc[df['class'].isin(['SuicideWatch', 'depression'])]\n",
    "# df.drop(\"Unnamed: 0\",axis=1,inplace=True)\n",
    "df['class']=df['class'].apply(change_label)\n",
    "df.head()"
   ]
  },
  {
   "cell_type": "code",
   "execution_count": 6,
   "id": "75256106",
   "metadata": {
    "execution": {
     "iopub.execute_input": "2022-11-10T17:46:24.950711Z",
     "iopub.status.busy": "2022-11-10T17:46:24.950312Z",
     "iopub.status.idle": "2022-11-10T17:46:24.967996Z",
     "shell.execute_reply": "2022-11-10T17:46:24.966853Z"
    },
    "papermill": {
     "duration": 0.029825,
     "end_time": "2022-11-10T17:46:24.970835",
     "exception": false,
     "start_time": "2022-11-10T17:46:24.941010",
     "status": "completed"
    },
    "tags": []
   },
   "outputs": [],
   "source": [
    "df_new=pd.concat([data_train,data_test,df])\n",
    "df_new.rename(columns={\"class\":\"label\"},inplace=True)"
   ]
  },
  {
   "cell_type": "code",
   "execution_count": 7,
   "id": "d0dd7d4f",
   "metadata": {
    "execution": {
     "iopub.execute_input": "2022-11-10T17:46:24.989332Z",
     "iopub.status.busy": "2022-11-10T17:46:24.988633Z",
     "iopub.status.idle": "2022-11-10T17:46:25.002026Z",
     "shell.execute_reply": "2022-11-10T17:46:25.000824Z"
    },
    "papermill": {
     "duration": 0.025449,
     "end_time": "2022-11-10T17:46:25.004442",
     "exception": false,
     "start_time": "2022-11-10T17:46:24.978993",
     "status": "completed"
    },
    "tags": []
   },
   "outputs": [
    {
     "data": {
      "text/html": [
       "<div>\n",
       "<style scoped>\n",
       "    .dataframe tbody tr th:only-of-type {\n",
       "        vertical-align: middle;\n",
       "    }\n",
       "\n",
       "    .dataframe tbody tr th {\n",
       "        vertical-align: top;\n",
       "    }\n",
       "\n",
       "    .dataframe thead th {\n",
       "        text-align: right;\n",
       "    }\n",
       "</style>\n",
       "<table border=\"1\" class=\"dataframe\">\n",
       "  <thead>\n",
       "    <tr style=\"text-align: right;\">\n",
       "      <th></th>\n",
       "      <th>text</th>\n",
       "      <th>label</th>\n",
       "    </tr>\n",
       "  </thead>\n",
       "  <tbody>\n",
       "    <tr>\n",
       "      <th>0</th>\n",
       "      <td>Hi I don't really know how to phrase this situ...</td>\n",
       "      <td>0</td>\n",
       "    </tr>\n",
       "    <tr>\n",
       "      <th>1</th>\n",
       "      <td>i have been so depressed these past couple wee...</td>\n",
       "      <td>1</td>\n",
       "    </tr>\n",
       "    <tr>\n",
       "      <th>2</th>\n",
       "      <td>Hi..I don't know where else to go. I am devast...</td>\n",
       "      <td>0</td>\n",
       "    </tr>\n",
       "    <tr>\n",
       "      <th>3</th>\n",
       "      <td>The shit like “it will get better, everyone is...</td>\n",
       "      <td>1</td>\n",
       "    </tr>\n",
       "    <tr>\n",
       "      <th>4</th>\n",
       "      <td>I wish I was prettier. I wish I didn’t feel li...</td>\n",
       "      <td>0</td>\n",
       "    </tr>\n",
       "    <tr>\n",
       "      <th>...</th>\n",
       "      <td>...</td>\n",
       "      <td>...</td>\n",
       "    </tr>\n",
       "    <tr>\n",
       "      <th>348119</th>\n",
       "      <td>You how you can tell i have so many friends an...</td>\n",
       "      <td>0</td>\n",
       "    </tr>\n",
       "    <tr>\n",
       "      <th>348120</th>\n",
       "      <td>pee probably tastes like salty tea😏💦‼️ can som...</td>\n",
       "      <td>0</td>\n",
       "    </tr>\n",
       "    <tr>\n",
       "      <th>348121</th>\n",
       "      <td>The usual stuff you find hereI'm not posting t...</td>\n",
       "      <td>1</td>\n",
       "    </tr>\n",
       "    <tr>\n",
       "      <th>348122</th>\n",
       "      <td>I confronted my mother. Extremely isolated, wi...</td>\n",
       "      <td>0</td>\n",
       "    </tr>\n",
       "    <tr>\n",
       "      <th>348123</th>\n",
       "      <td>I still haven't beaten the first boss in Hollo...</td>\n",
       "      <td>0</td>\n",
       "    </tr>\n",
       "  </tbody>\n",
       "</table>\n",
       "<p>350004 rows × 2 columns</p>\n",
       "</div>"
      ],
      "text/plain": [
       "                                                     text  label\n",
       "0       Hi I don't really know how to phrase this situ...      0\n",
       "1       i have been so depressed these past couple wee...      1\n",
       "2       Hi..I don't know where else to go. I am devast...      0\n",
       "3       The shit like “it will get better, everyone is...      1\n",
       "4       I wish I was prettier. I wish I didn’t feel li...      0\n",
       "...                                                   ...    ...\n",
       "348119  You how you can tell i have so many friends an...      0\n",
       "348120  pee probably tastes like salty tea😏💦‼️ can som...      0\n",
       "348121  The usual stuff you find hereI'm not posting t...      1\n",
       "348122  I confronted my mother. Extremely isolated, wi...      0\n",
       "348123  I still haven't beaten the first boss in Hollo...      0\n",
       "\n",
       "[350004 rows x 2 columns]"
      ]
     },
     "execution_count": 7,
     "metadata": {},
     "output_type": "execute_result"
    }
   ],
   "source": [
    "df_new"
   ]
  },
  {
   "cell_type": "code",
   "execution_count": 8,
   "id": "22d2aaad",
   "metadata": {
    "execution": {
     "iopub.execute_input": "2022-11-10T17:46:25.023501Z",
     "iopub.status.busy": "2022-11-10T17:46:25.023093Z",
     "iopub.status.idle": "2022-11-10T17:46:25.060127Z",
     "shell.execute_reply": "2022-11-10T17:46:25.058836Z"
    },
    "papermill": {
     "duration": 0.050508,
     "end_time": "2022-11-10T17:46:25.063798",
     "exception": false,
     "start_time": "2022-11-10T17:46:25.013290",
     "status": "completed"
    },
    "tags": []
   },
   "outputs": [
    {
     "name": "stdout",
     "output_type": "stream",
     "text": [
      "Suicide:\n",
      "\n",
      "0 : i have been so depressed these past couple weeks ever since i got back from vacation normal life and reality has hit me and its terrible. im 19 i havent moved out yet i dont really have a sufficient job i have one but its not enough money for me to support myself. at least i have a car and im taking online classes so. i feel stuck in this stupid fucking town. empty and alone man i just want someone to love me dude but im ugly and fat and worthless and no one is ever going to see im worth the chance. its just one thing after another to worry about. why not end it now before i really fuck up and become miserable? i dont see the point in going on im just really down right now i dont know what to do )): all there is darkness idk how to get out of this hole i hate myself i hate my body i hate my life i dont think it will ever get better \n",
      "\n",
      "1 : The shit like “it will get better, everyone is here for a purpose you just need to find yours.” Or “it will get better just wait, one day you’ll be glad you didn’t kill your self.” And of course the suicide is a permanent solution blah blah blah fuck shit. Even better, for people with religion say , “just pray” \n",
      "\n",
      "Suicidal people are tired of hearing the same generic shit. That’s why we don’t open up. \n",
      "\n",
      "2 : This is a weird question, but is there someplace I can call and talk to someone before I go? I don't want to be talked out of it. I just want one last, good conversation. \n",
      "\n",
      "3 : I don’t know when I will pass. I don’t know how many people will know or care. I only want this to say to my parents and siblings and all relatives: I’m sorry. I’m greatly sorry. I will miss you all. But, I cannot continue the journey. \n",
      "\n",
      "I wasn’t blessed with looks, brains, talents, or really anything. My passions fizzle out and every ounce of optimism is but a coping tool for misery. I cannot continue down this road. All of those who pass me by, I know I wasn’t worth your time, but just know how blessed you are. With looks, brains, talents. \n",
      "\n",
      "Deep down maybe it is just a series of self inflicted devilish mistakes in manipulation and childhood traumas of sexual and psychological abuse. I blame myself wholeheartedly for all my actions and I blame myself for the actions made against me. I am a wretch. I am terrible. \n",
      "\n",
      "The only thing I can die with is hoping to meet a loving God. Or perhaps that I was a lonely god. One who created a world from loneliness. One who dreamt it all up. But, with all the suffering and pain and lost desires, God may have forsaken me. And if this is just a Dream then i made one terrible dream. \n",
      "\n",
      "I don’t really want to die. But I need to. It’s time I must be going. Mom, everytime you see anything that reminds you of me. Know that I’m sorry. I’m truly sorry. \n",
      "\n",
      "With love, \n",
      "Another \n",
      "\n",
      "\n",
      "\n",
      "\n",
      "Depression:\n",
      "\n",
      "0 : Hi I don't really know how to phrase this situation but I'll try. My life is at a really good point right now, I'm never really depressed over stuff and 99 percent of the time my mind is clear. I'm about to graduate high school and I'm really excited. However, people in my family and friend group have tons of issues. Wether they sleep all day, hate themselves, or have no ambition to keep living on in this world, they've got problems. I don't wanna sound like I'm gloating, but usually I'm the person that a lot of these people end up going to because usually I'm able to talk people through issues and help them in the long run. Yeah sometimes their issues make me really sad and stuff because who doesn't feel sad when people are telling you they feel worthless.\n",
      "\n",
      "But today one of my best friends showed me that he was cutting and it really effected me. I talked to him about it and it's mostly because of how painfully \"bored\" he is and he doesn't even know why he's doing it (he's a pretty logical guy). He will go to class and just sit there for and hour most of the time doing nothing challenging because that's the way our school works. He has clinically diagnosed depression, has been to a psychiatric ward, and sees a therapist regularly. It's only been a couple hours since he showed me his arm, and I didn't even see all of it. \n",
      "\n",
      "I've got two main problems right now. First I don't really know how to help him. He said literally the only thing I can really do is just hang out with him after school and on the weekends so he doesn't just sit in bed all day. I've been trying to make an effort to do that as much as I can but I need to do more. He said himself that as long as he goes to highschool, and considering it's the law, he's going to feel this way until we graduate. I just need to know something I can do to help him, do I tell his parents? A therapist won't help he already goes to one. Should I talk to him more about it tomorrow. I just don't know\n",
      "\n",
      "Second, stuff like this is really effecting me. I just feel that the world is being unfair to everyone I care about and I just want everyone I love to feel better. As of lately I've been feeling depressed whenever my friends need to talk about issues and it's really weighing down on me. I just don't want to leave the people I care about down in the dirt. \n",
      "\n",
      "So yeah if anyone has any advice whatsoever please help me. Im normally able to deal with these feelings and help my friends but right now I'm struggling. Thank you ❤️ \n",
      "\n",
      "1 : Hi..I don't know where else to go. I am devastated right now, feeling like I'm spiraling out of control, I feel so fucking numb from crying my lungs out. Even my best friend is no longer supportive, my family, parents at home are shit. I have no real friends who care, and I can't be bothered to do anything right now, I just want to sleep without waking up to see another morning. I feel so fucking pathetic and shit, I cut myself regularly now and I'm having so much fucking self pity, I'm pretending to be normal because I don't want to lose my best friend, the only person who has helped me come this far from previous suicidal attempts. But suppressing it makes it so much fucking worse I feel like nobody fucking cares, no matter how many times I shout for help. No one close to me cares. I don't know what to do. I'm leaning towards paracetamol poisoning all over again, if I die I die, If I don't I try a different method. I just feel like absolute shit, jobless. I regret everything in my life, every fucking thing, I don't know who to trust anymore, I don't even have a fucking shoulder to lean on while crying my lungs out. Im in a LDR, from past 6 months, (not prior to that) as she's studying overseas, I can't even fucking have her hold me in her arms when I'm feeling like shit. She is the best and supportive, and my best friend but I can't hurt her by harming myself so It's a fucking struggle. I just feel so enraged and angry at everything..I can't fucking find a job due to covid-19. Sometimes it feels like If I had some money to get myself kicked off I can go near her and find a job and at least stay sane. But right now it all seems so fucking impossible I feel like I'm such a fucking mess and I just wish to fucking die right now, I feel so much burden when I inhale, I just want to die. I got no where else to go. I am planning on consuming meds tonight I just can't do it anymore. \n",
      "\n",
      "2 : I wish I was prettier. I wish I didn’t feel like a burden, I wish I wasn’t so broken. I wish I was more charismatic and not weird around strangers and I wish I wasn’t so nice. I wish I didn’t feel like I’m a loser with a pathetic, boring life. I wish I wasn’t so hard to make friends with and I just wish I was different. \n",
      "\n",
      "3 : I’m just venting into the void because I feel bad for constantly annoying my friends but I has an epiphany 20 minutes ago that like...yeah I’m absolutely going to die single and unloved. I have friends and family but literally no one wants me romantically. All I attract are toxic folks that just suck the energy out of me. I just had to cut things off with this guy I was really into because I realized he just used me and didn’t care about me but now I’m like maybe I should just stick with him but at least I can pretend he cares about me. Or at least wants to fuck me. That’s probably the best I can get. \n",
      "I’m never going to have a healthy romantic relationship and I’m gonna learn to accept that but for tonight...I cry. \n",
      "I’m just too ugly. Not interesting enough. Not funny enough. Not thin enough. My ass isn’t fat enough. Waist aint small enough. Not smart enough. \n",
      "\n",
      "But hey in a few years I’ll have a kid on my own and I’ll pour all the love I never had into the lil human so they don’t end up like me. Broken and unlovable. \n",
      "\n",
      "\n",
      "I’m spiraling. \n",
      "\n"
     ]
    }
   ],
   "source": [
    "print(\"Suicide:\\n\")\n",
    "for ctr,i in enumerate(df_new.text[df_new.label == 1]):\n",
    "    print(ctr,':',i,'\\n')\n",
    "    if(ctr > 2):\n",
    "        break\n",
    "print(\"\\n\\n\\nDepression:\\n\")\n",
    "for ctr,i in enumerate(df_new.text[df_new.label == 0]):\n",
    "    print(ctr,':',i,'\\n')\n",
    "    if(ctr > 2):\n",
    "        break"
   ]
  },
  {
   "cell_type": "code",
   "execution_count": 9,
   "id": "04d659ba",
   "metadata": {
    "collapsed": true,
    "execution": {
     "iopub.execute_input": "2022-11-10T17:46:25.084195Z",
     "iopub.status.busy": "2022-11-10T17:46:25.083823Z",
     "iopub.status.idle": "2022-11-10T17:46:25.088378Z",
     "shell.execute_reply": "2022-11-10T17:46:25.087315Z"
    },
    "jupyter": {
     "outputs_hidden": true,
     "source_hidden": true
    },
    "papermill": {
     "duration": 0.017031,
     "end_time": "2022-11-10T17:46:25.090646",
     "exception": false,
     "start_time": "2022-11-10T17:46:25.073615",
     "status": "completed"
    },
    "tags": []
   },
   "outputs": [],
   "source": [
    "# print(data.selftext.iloc[0], '\\n--------\\n', data.selftext_clean.iloc[0])"
   ]
  },
  {
   "cell_type": "code",
   "execution_count": 10,
   "id": "79bf595c",
   "metadata": {
    "execution": {
     "iopub.execute_input": "2022-11-10T17:46:25.110560Z",
     "iopub.status.busy": "2022-11-10T17:46:25.110174Z",
     "iopub.status.idle": "2022-11-10T17:46:25.113648Z",
     "shell.execute_reply": "2022-11-10T17:46:25.112865Z"
    },
    "jupyter": {
     "source_hidden": true
    },
    "papermill": {
     "duration": 0.015504,
     "end_time": "2022-11-10T17:46:25.115646",
     "exception": false,
     "start_time": "2022-11-10T17:46:25.100142",
     "status": "completed"
    },
    "tags": []
   },
   "outputs": [],
   "source": [
    "# print(len(set(data.title)), len(data))\n",
    "# print(len(set(data.title_clean)), len(data))"
   ]
  },
  {
   "cell_type": "code",
   "execution_count": 11,
   "id": "f3fbaa22",
   "metadata": {
    "execution": {
     "iopub.execute_input": "2022-11-10T17:46:25.134872Z",
     "iopub.status.busy": "2022-11-10T17:46:25.134454Z",
     "iopub.status.idle": "2022-11-10T17:46:25.139267Z",
     "shell.execute_reply": "2022-11-10T17:46:25.138170Z"
    },
    "papermill": {
     "duration": 0.017078,
     "end_time": "2022-11-10T17:46:25.141382",
     "exception": false,
     "start_time": "2022-11-10T17:46:25.124304",
     "status": "completed"
    },
    "tags": []
   },
   "outputs": [],
   "source": [
    "# df = data_train[['selftext', 'is_suicide']].dropna()#.drop(list(set(data.columns) - set(['selftext_clean', 'is_suicide'])), axis =  1).dropna()\n",
    "# df.head()"
   ]
  },
  {
   "cell_type": "code",
   "execution_count": 12,
   "id": "cc98eb25",
   "metadata": {
    "execution": {
     "iopub.execute_input": "2022-11-10T17:46:25.160955Z",
     "iopub.status.busy": "2022-11-10T17:46:25.160203Z",
     "iopub.status.idle": "2022-11-10T17:46:25.217674Z",
     "shell.execute_reply": "2022-11-10T17:46:25.216869Z"
    },
    "papermill": {
     "duration": 0.069818,
     "end_time": "2022-11-10T17:46:25.220074",
     "exception": false,
     "start_time": "2022-11-10T17:46:25.150256",
     "status": "completed"
    },
    "tags": []
   },
   "outputs": [
    {
     "data": {
      "text/plain": [
       "Counter({0: 232987, 1: 117017})"
      ]
     },
     "execution_count": 12,
     "metadata": {},
     "output_type": "execute_result"
    }
   ],
   "source": [
    "import collections\n",
    "collections.Counter(df_new.label)"
   ]
  },
  {
   "cell_type": "code",
   "execution_count": 13,
   "id": "163d9bc2",
   "metadata": {
    "execution": {
     "iopub.execute_input": "2022-11-10T17:46:25.239599Z",
     "iopub.status.busy": "2022-11-10T17:46:25.239209Z",
     "iopub.status.idle": "2022-11-10T17:46:25.243679Z",
     "shell.execute_reply": "2022-11-10T17:46:25.242544Z"
    },
    "papermill": {
     "duration": 0.016898,
     "end_time": "2022-11-10T17:46:25.245858",
     "exception": false,
     "start_time": "2022-11-10T17:46:25.228960",
     "status": "completed"
    },
    "tags": []
   },
   "outputs": [],
   "source": [
    "# import collections\n",
    "\n",
    "# aa = collections.Counter(df.num_comments)"
   ]
  },
  {
   "cell_type": "code",
   "execution_count": 14,
   "id": "a3de8bff",
   "metadata": {
    "execution": {
     "iopub.execute_input": "2022-11-10T17:46:25.265254Z",
     "iopub.status.busy": "2022-11-10T17:46:25.264830Z",
     "iopub.status.idle": "2022-11-10T17:46:25.269406Z",
     "shell.execute_reply": "2022-11-10T17:46:25.268281Z"
    },
    "papermill": {
     "duration": 0.016946,
     "end_time": "2022-11-10T17:46:25.271619",
     "exception": false,
     "start_time": "2022-11-10T17:46:25.254673",
     "status": "completed"
    },
    "tags": []
   },
   "outputs": [],
   "source": [
    "# plt.bar(aa.keys(), aa.values())"
   ]
  },
  {
   "cell_type": "code",
   "execution_count": 15,
   "id": "71d2146b",
   "metadata": {
    "execution": {
     "iopub.execute_input": "2022-11-10T17:46:25.290829Z",
     "iopub.status.busy": "2022-11-10T17:46:25.290409Z",
     "iopub.status.idle": "2022-11-10T17:46:25.295252Z",
     "shell.execute_reply": "2022-11-10T17:46:25.294077Z"
    },
    "papermill": {
     "duration": 0.017023,
     "end_time": "2022-11-10T17:46:25.297441",
     "exception": false,
     "start_time": "2022-11-10T17:46:25.280418",
     "status": "completed"
    },
    "tags": []
   },
   "outputs": [],
   "source": [
    "# print(\"Average sentance length:\", str(np.mean([len(df.selftext_clean.iloc[i].split(' ')) for i in range(len(df))])) + ' words')\n",
    "\n",
    "# a1 = []\n",
    "# for k in [j for j in [df.selftext_clean.iloc[i].split(' ') for i in range(len(df))]]:\n",
    "#     a1.extend(k)\n",
    "# print(\"Average word length:\", str(np.mean([len(i) for i in a1]))+' letters')"
   ]
  },
  {
   "cell_type": "code",
   "execution_count": 16,
   "id": "8290703b",
   "metadata": {
    "execution": {
     "iopub.execute_input": "2022-11-10T17:46:25.317088Z",
     "iopub.status.busy": "2022-11-10T17:46:25.316354Z",
     "iopub.status.idle": "2022-11-10T17:46:59.943306Z",
     "shell.execute_reply": "2022-11-10T17:46:59.942101Z"
    },
    "papermill": {
     "duration": 34.647584,
     "end_time": "2022-11-10T17:46:59.953947",
     "exception": false,
     "start_time": "2022-11-10T17:46:25.306363",
     "status": "completed"
    },
    "tags": []
   },
   "outputs": [
    {
     "name": "stdout",
     "output_type": "stream",
     "text": [
      "Average sentance length: 170.99887715568966 words\n",
      "Average word length: 4.253366002848675 letters\n"
     ]
    }
   ],
   "source": [
    "print(\"Average sentance length:\", str(np.mean([len(df_new.text.iloc[i].split(' ')) for i in range(len(df_new))])) + ' words')\n",
    "\n",
    "a1 = []\n",
    "for k in [j for j in [df_new.text.iloc[i].split(' ') for i in range(len(df_new))]]:\n",
    "    a1.extend(k)\n",
    "print(\"Average word length:\", str(np.mean([len(i) for i in a1]))+' letters')"
   ]
  },
  {
   "cell_type": "code",
   "execution_count": 17,
   "id": "19cccdeb",
   "metadata": {
    "execution": {
     "iopub.execute_input": "2022-11-10T17:46:59.973938Z",
     "iopub.status.busy": "2022-11-10T17:46:59.973198Z",
     "iopub.status.idle": "2022-11-10T17:46:59.978573Z",
     "shell.execute_reply": "2022-11-10T17:46:59.977161Z"
    },
    "papermill": {
     "duration": 0.018249,
     "end_time": "2022-11-10T17:46:59.980954",
     "exception": false,
     "start_time": "2022-11-10T17:46:59.962705",
     "status": "completed"
    },
    "tags": []
   },
   "outputs": [],
   "source": [
    "# avg = sum([i for i in data.num_comments.values])//len([i for i in data.num_comments.values])\n",
    "# print('Least number of comments for a post: {} \\nMost number of comments for a post: {} \\nAverage comments per post: {}'.format(min(data['num_comments'].values),max(data['num_comments'].values), avg))"
   ]
  },
  {
   "cell_type": "code",
   "execution_count": 18,
   "id": "b389d23b",
   "metadata": {
    "execution": {
     "iopub.execute_input": "2022-11-10T17:47:00.001300Z",
     "iopub.status.busy": "2022-11-10T17:47:00.000202Z",
     "iopub.status.idle": "2022-11-10T17:47:12.532746Z",
     "shell.execute_reply": "2022-11-10T17:47:12.530930Z"
    },
    "papermill": {
     "duration": 12.545709,
     "end_time": "2022-11-10T17:47:12.535765",
     "exception": false,
     "start_time": "2022-11-10T17:46:59.990056",
     "status": "completed"
    },
    "tags": []
   },
   "outputs": [
    {
     "name": "stdout",
     "output_type": "stream",
     "text": [
      "Requirement already satisfied: scattertext in /opt/conda/lib/python3.7/site-packages (0.1.6)\r\n",
      "Requirement already satisfied: scipy in /opt/conda/lib/python3.7/site-packages (from scattertext) (1.7.3)\r\n",
      "Requirement already satisfied: pandas in /opt/conda/lib/python3.7/site-packages (from scattertext) (1.3.5)\r\n",
      "Requirement already satisfied: mock in /opt/conda/lib/python3.7/site-packages (from scattertext) (4.0.3)\r\n",
      "Requirement already satisfied: flashtext in /opt/conda/lib/python3.7/site-packages (from scattertext) (2.7)\r\n",
      "Requirement already satisfied: statsmodels in /opt/conda/lib/python3.7/site-packages (from scattertext) (0.13.2)\r\n",
      "Requirement already satisfied: six in /opt/conda/lib/python3.7/site-packages (from scattertext) (1.16.0)\r\n",
      "Requirement already satisfied: scikit-learn in /opt/conda/lib/python3.7/site-packages (from scattertext) (1.0.2)\r\n",
      "Requirement already satisfied: numpy in /opt/conda/lib/python3.7/site-packages (from scattertext) (1.21.6)\r\n",
      "Requirement already satisfied: gensim>=4.0.0 in /opt/conda/lib/python3.7/site-packages (from scattertext) (4.0.1)\r\n",
      "Requirement already satisfied: smart-open>=1.8.1 in /opt/conda/lib/python3.7/site-packages (from gensim>=4.0.0->scattertext) (5.2.1)\r\n",
      "Requirement already satisfied: python-dateutil>=2.7.3 in /opt/conda/lib/python3.7/site-packages (from pandas->scattertext) (2.8.2)\r\n",
      "Requirement already satisfied: pytz>=2017.3 in /opt/conda/lib/python3.7/site-packages (from pandas->scattertext) (2022.1)\r\n",
      "Requirement already satisfied: threadpoolctl>=2.0.0 in /opt/conda/lib/python3.7/site-packages (from scikit-learn->scattertext) (3.1.0)\r\n",
      "Requirement already satisfied: joblib>=0.11 in /opt/conda/lib/python3.7/site-packages (from scikit-learn->scattertext) (1.0.1)\r\n",
      "Requirement already satisfied: patsy>=0.5.2 in /opt/conda/lib/python3.7/site-packages (from statsmodels->scattertext) (0.5.2)\r\n",
      "Requirement already satisfied: packaging>=21.3 in /opt/conda/lib/python3.7/site-packages (from statsmodels->scattertext) (21.3)\r\n",
      "Requirement already satisfied: pyparsing!=3.0.5,>=2.0.2 in /opt/conda/lib/python3.7/site-packages (from packaging>=21.3->statsmodels->scattertext) (3.0.9)\r\n",
      "\u001b[33mWARNING: Running pip as the 'root' user can result in broken permissions and conflicting behaviour with the system package manager. It is recommended to use a virtual environment instead: https://pip.pypa.io/warnings/venv\u001b[0m\u001b[33m\r\n",
      "\u001b[0m"
     ]
    }
   ],
   "source": [
    "!pip install scattertext"
   ]
  },
  {
   "cell_type": "code",
   "execution_count": 19,
   "id": "3624b2a3",
   "metadata": {
    "execution": {
     "iopub.execute_input": "2022-11-10T17:47:12.557112Z",
     "iopub.status.busy": "2022-11-10T17:47:12.556379Z",
     "iopub.status.idle": "2022-11-10T17:47:15.788985Z",
     "shell.execute_reply": "2022-11-10T17:47:15.788000Z"
    },
    "papermill": {
     "duration": 3.246862,
     "end_time": "2022-11-10T17:47:15.792253",
     "exception": false,
     "start_time": "2022-11-10T17:47:12.545391",
     "status": "completed"
    },
    "tags": []
   },
   "outputs": [],
   "source": [
    "data1 = df_new.copy().sample(100000)\n",
    "a1 = []\n",
    "for i in data1.label.values:\n",
    "    if(i == 0):\n",
    "        a1.append('depression')\n",
    "    else:\n",
    "        a1.append('suicide')\n",
    "data1['label'] = a1"
   ]
  },
  {
   "cell_type": "code",
   "execution_count": null,
   "id": "ab12c1dd",
   "metadata": {
    "papermill": {
     "duration": 0.009463,
     "end_time": "2022-11-10T17:47:15.811851",
     "exception": false,
     "start_time": "2022-11-10T17:47:15.802388",
     "status": "completed"
    },
    "tags": []
   },
   "outputs": [],
   "source": []
  },
  {
   "cell_type": "code",
   "execution_count": 20,
   "id": "96ed510b",
   "metadata": {
    "execution": {
     "iopub.execute_input": "2022-11-10T17:47:15.832234Z",
     "iopub.status.busy": "2022-11-10T17:47:15.831863Z",
     "iopub.status.idle": "2022-11-10T18:46:00.962147Z",
     "shell.execute_reply": "2022-11-10T18:46:00.960576Z"
    },
    "papermill": {
     "duration": 3525.147462,
     "end_time": "2022-11-10T18:46:00.968691",
     "exception": false,
     "start_time": "2022-11-10T17:47:15.821229",
     "status": "completed"
    },
    "tags": []
   },
   "outputs": [],
   "source": [
    "import scattertext as st\n",
    "import spacy\n",
    "from pprint import pprint\n",
    "\n",
    "nlp = spacy.load('en_core_web_sm')\n",
    "corpus = st.CorpusFromPandas(data1, \n",
    "                              category_col='label', \n",
    "                              text_col='text',\n",
    "                              nlp=nlp).build()\n"
   ]
  },
  {
   "cell_type": "code",
   "execution_count": 21,
   "id": "9c052eed",
   "metadata": {
    "execution": {
     "iopub.execute_input": "2022-11-10T18:46:00.995440Z",
     "iopub.status.busy": "2022-11-10T18:46:00.995018Z",
     "iopub.status.idle": "2022-11-10T18:46:11.890803Z",
     "shell.execute_reply": "2022-11-10T18:46:11.889515Z"
    },
    "papermill": {
     "duration": 10.911078,
     "end_time": "2022-11-10T18:46:11.894645",
     "exception": false,
     "start_time": "2022-11-10T18:46:00.983567",
     "status": "completed"
    },
    "tags": []
   },
   "outputs": [
    {
     "name": "stdout",
     "output_type": "stream",
     "text": [
      "['myself', 'filler', 'depression', 'depressed', 'anymore', 'feel', 'shit', 'suicide', 'wo', 'suicidal']\n"
     ]
    }
   ],
   "source": [
    "print(list(corpus.get_scaled_f_scores_vs_background().index[:10]))"
   ]
  },
  {
   "cell_type": "code",
   "execution_count": 22,
   "id": "b804f142",
   "metadata": {
    "execution": {
     "iopub.execute_input": "2022-11-10T18:46:11.918081Z",
     "iopub.status.busy": "2022-11-10T18:46:11.917387Z",
     "iopub.status.idle": "2022-11-10T18:46:13.476519Z",
     "shell.execute_reply": "2022-11-10T18:46:13.475219Z"
    },
    "papermill": {
     "duration": 1.572906,
     "end_time": "2022-11-10T18:46:13.479122",
     "exception": false,
     "start_time": "2022-11-10T18:46:11.906216",
     "status": "completed"
    },
    "tags": []
   },
   "outputs": [
    {
     "name": "stdout",
     "output_type": "stream",
     "text": [
      "['end it',\n",
      " 'bye',\n",
      " 'n’t want',\n",
      " 'to end',\n",
      " 'kill myself',\n",
      " 'to die',\n",
      " 'ca n’t',\n",
      " 'to kill',\n",
      " 'killing myself',\n",
      " 'kill']\n"
     ]
    }
   ],
   "source": [
    "term_freq_df = corpus.get_term_freq_df()\n",
    "term_freq_df['suicide'] = corpus.get_scaled_f_scores('suicide')\n",
    "pprint(list(term_freq_df.sort_values(by='suicide', ascending=False).index[:10]))"
   ]
  },
  {
   "cell_type": "code",
   "execution_count": 23,
   "id": "91d24a6d",
   "metadata": {
    "execution": {
     "iopub.execute_input": "2022-11-10T18:46:13.500958Z",
     "iopub.status.busy": "2022-11-10T18:46:13.499767Z",
     "iopub.status.idle": "2022-11-10T18:46:14.637728Z",
     "shell.execute_reply": "2022-11-10T18:46:14.635697Z"
    },
    "papermill": {
     "duration": 1.151678,
     "end_time": "2022-11-10T18:46:14.640595",
     "exception": false,
     "start_time": "2022-11-10T18:46:13.488917",
     "status": "completed"
    },
    "tags": []
   },
   "outputs": [
    {
     "name": "stdout",
     "output_type": "stream",
     "text": [
      "['\\u200d \\u200d',\n",
      " '⣿',\n",
      " '⠀',\n",
      " '⣿ ⣿',\n",
      " '⠀ ⠀',\n",
      " 'filler filler',\n",
      " '⠄',\n",
      " '⠄ ⠄',\n",
      " 'ni ni',\n",
      " 'cecil',\n",
      " 'cecil cecil',\n",
      " 'filler',\n",
      " '\\u200d',\n",
      " 'ni',\n",
      " 'ㅤ',\n",
      " '\\u200e\\u200f\\u200f\\u200e',\n",
      " 'fuck fuck',\n",
      " '\\u200e\\u200f\\u200f\\u200e \\u200e\\u200f\\u200f\\u200e',\n",
      " '#',\n",
      " '█',\n",
      " '😎',\n",
      " '.-',\n",
      " '️',\n",
      " '_ _',\n",
      " 'u',\n",
      " '_',\n",
      " 'bored',\n",
      " 'do you',\n",
      " 'my depression',\n",
      " 'depression',\n",
      " 'hey',\n",
      " 'guys',\n",
      " '😎 😎',\n",
      " 'how do',\n",
      " 'does anyone',\n",
      " 'depression is',\n",
      " 'with depression',\n",
      " 'crush',\n",
      " '︎',\n",
      " '︎ ︎',\n",
      " 'of depression',\n",
      " 'game',\n",
      " 'play',\n",
      " 'class',\n",
      " 'girls',\n",
      " 'anyone else',\n",
      " 'you guys',\n",
      " '/',\n",
      " 'advice',\n",
      " 'games']\n"
     ]
    }
   ],
   "source": [
    "term_freq_df['depression'] = corpus.get_scaled_f_scores('depression')\n",
    "pprint(list(term_freq_df.sort_values(by='depression', ascending=False).index[:50]))"
   ]
  },
  {
   "cell_type": "code",
   "execution_count": 24,
   "id": "7378d248",
   "metadata": {
    "execution": {
     "iopub.execute_input": "2022-11-10T18:46:14.662154Z",
     "iopub.status.busy": "2022-11-10T18:46:14.661736Z",
     "iopub.status.idle": "2022-11-10T18:46:36.252359Z",
     "shell.execute_reply": "2022-11-10T18:46:36.251155Z"
    },
    "papermill": {
     "duration": 21.604378,
     "end_time": "2022-11-10T18:46:36.254874",
     "exception": false,
     "start_time": "2022-11-10T18:46:14.650496",
     "status": "completed"
    },
    "tags": []
   },
   "outputs": [
    {
     "data": {
      "text/plain": [
       "103693688"
      ]
     },
     "execution_count": 24,
     "metadata": {},
     "output_type": "execute_result"
    }
   ],
   "source": [
    "html = st.produce_scattertext_explorer(corpus,\n",
    "          category='suicide',\n",
    "          category_name='Suicide',\n",
    "          not_category_name='Depression',\n",
    "          width_in_pixels=1000)\n",
    "\n",
    "open(\"Convention-Visualization.html\", 'wb').write(html.encode('utf-8'))"
   ]
  },
  {
   "cell_type": "code",
   "execution_count": null,
   "id": "5f8b0a2a",
   "metadata": {
    "papermill": {
     "duration": 0.009487,
     "end_time": "2022-11-10T18:46:36.274405",
     "exception": false,
     "start_time": "2022-11-10T18:46:36.264918",
     "status": "completed"
    },
    "tags": []
   },
   "outputs": [],
   "source": []
  },
  {
   "cell_type": "code",
   "execution_count": 25,
   "id": "28c7fe0c",
   "metadata": {
    "execution": {
     "iopub.execute_input": "2022-11-10T18:46:36.296150Z",
     "iopub.status.busy": "2022-11-10T18:46:36.295488Z",
     "iopub.status.idle": "2022-11-10T18:46:36.299847Z",
     "shell.execute_reply": "2022-11-10T18:46:36.299065Z"
    },
    "papermill": {
     "duration": 0.017756,
     "end_time": "2022-11-10T18:46:36.301918",
     "exception": false,
     "start_time": "2022-11-10T18:46:36.284162",
     "status": "completed"
    },
    "tags": []
   },
   "outputs": [],
   "source": [
    "# dispersion = st.Dispersion(corpus)\n",
    "\n",
    "# dispersion_df = dispersion.get_df()\n",
    "# dispersion_df.head(3)"
   ]
  },
  {
   "cell_type": "code",
   "execution_count": 26,
   "id": "d41f3fac",
   "metadata": {
    "execution": {
     "iopub.execute_input": "2022-11-10T18:46:36.323739Z",
     "iopub.status.busy": "2022-11-10T18:46:36.323113Z",
     "iopub.status.idle": "2022-11-10T18:46:36.327679Z",
     "shell.execute_reply": "2022-11-10T18:46:36.326885Z"
    },
    "papermill": {
     "duration": 0.018235,
     "end_time": "2022-11-10T18:46:36.329987",
     "exception": false,
     "start_time": "2022-11-10T18:46:36.311752",
     "status": "completed"
    },
    "tags": []
   },
   "outputs": [],
   "source": [
    "# dispersion_df = dispersion_df.assign(\n",
    "#     X=lambda df: df.Frequency,\n",
    "#     Xpos=lambda df: st.Scalers.log_scale(df.X),\n",
    "#     Y=lambda df: df[\"Rosengren's S\"],\n",
    "#     Ypos=lambda df: st.Scalers.scale(df.Y),\n",
    "# )"
   ]
  },
  {
   "cell_type": "code",
   "execution_count": 27,
   "id": "16167a77",
   "metadata": {
    "execution": {
     "iopub.execute_input": "2022-11-10T18:46:36.351842Z",
     "iopub.status.busy": "2022-11-10T18:46:36.351412Z",
     "iopub.status.idle": "2022-11-10T18:46:36.356263Z",
     "shell.execute_reply": "2022-11-10T18:46:36.355141Z"
    },
    "papermill": {
     "duration": 0.01893,
     "end_time": "2022-11-10T18:46:36.358669",
     "exception": false,
     "start_time": "2022-11-10T18:46:36.339739",
     "status": "completed"
    },
    "tags": []
   },
   "outputs": [],
   "source": [
    "# from sklearn.neighbors import KNeighborsRegressor\n",
    "\n",
    "# dispersion_df = dispersion_df.assign(\n",
    "#     Expected=lambda df: KNeighborsRegressor(n_neighbors=10).fit(\n",
    "#         df.X.values.reshape(-1, 1), df.Y\n",
    "#     ).predict(df.X.values.reshape(-1, 1)),\n",
    "#     Residual=lambda df: df.Y - df.Expected,\n",
    "#     ColorScore=lambda df: st.Scalers.scale_center_zero_abs(df.Residual)\n",
    "# ) "
   ]
  },
  {
   "cell_type": "code",
   "execution_count": 28,
   "id": "51587264",
   "metadata": {
    "execution": {
     "iopub.execute_input": "2022-11-10T18:46:36.380849Z",
     "iopub.status.busy": "2022-11-10T18:46:36.379701Z",
     "iopub.status.idle": "2022-11-10T18:46:36.385002Z",
     "shell.execute_reply": "2022-11-10T18:46:36.384242Z"
    },
    "papermill": {
     "duration": 0.018597,
     "end_time": "2022-11-10T18:46:36.387063",
     "exception": false,
     "start_time": "2022-11-10T18:46:36.368466",
     "status": "completed"
    },
    "tags": []
   },
   "outputs": [],
   "source": [
    "# html = st.dataframe_scattertext(\n",
    "#     corpus,\n",
    "#     plot_df=dispersion_df, \n",
    "#     metadata=corpus.get_df()['author'] + ' (' + corpus.get_df()['is_suicide'].str.upper() + ')',\n",
    "#     ignore_categories=True,\n",
    "#     x_label='Log Frequency',\n",
    "#     y_label=\"Rosengren's S\",\n",
    "#     y_axis_labels=['More Dispersion', 'Medium', 'Less Dispersion'],\n",
    "#     color_score_column='ColorScore',\n",
    "#     header_names={'upper': 'Lower than Expected', 'lower': 'More than Expected'},\n",
    "#     left_list_column='Residual',\n",
    "#     background_color='#e5e5e3'\n",
    "# )\n",
    "\n",
    "# open(\"Convention-Visualization.html\", 'wb').write(html.encode('utf-8'))"
   ]
  }
 ],
 "metadata": {
  "kernelspec": {
   "display_name": "Python 3",
   "language": "python",
   "name": "python3"
  },
  "language_info": {
   "codemirror_mode": {
    "name": "ipython",
    "version": 3
   },
   "file_extension": ".py",
   "mimetype": "text/x-python",
   "name": "python",
   "nbconvert_exporter": "python",
   "pygments_lexer": "ipython3",
   "version": "3.7.12"
  },
  "papermill": {
   "default_parameters": {},
   "duration": 3644.08366,
   "end_time": "2022-11-10T18:46:39.152064",
   "environment_variables": {},
   "exception": null,
   "input_path": "__notebook__.ipynb",
   "output_path": "__notebook__.ipynb",
   "parameters": {},
   "start_time": "2022-11-10T17:45:55.068404",
   "version": "2.3.4"
  }
 },
 "nbformat": 4,
 "nbformat_minor": 5
}
